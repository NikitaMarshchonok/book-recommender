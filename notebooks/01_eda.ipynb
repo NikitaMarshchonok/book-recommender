{
 "cells": [
  {
   "cell_type": "code",
   "execution_count": null,
   "id": "fd19309c-54e6-439f-bced-4608458fc04b",
   "metadata": {},
   "outputs": [],
   "source": [
    "from pathlib import Path\n",
    "import pandas as pd, numpy as np\n",
    "from scipy.sparse import coo_matrix, save_npz\n",
    "\n",
    "BASE_DIR  = Path.cwd().parent     # .. /book-recommender\n",
    "DATA_DIR  = BASE_DIR / \"data\"\n",
    "MODELS_DIR = BASE_DIR / \"models\"\n"
   ]
  },
  {
   "cell_type": "code",
   "execution_count": null,
   "id": "b7101780-9d72-4567-a829-8859a9a479cc",
   "metadata": {},
   "outputs": [],
   "source": [
    "ratings = pd.read_csv(DATA_DIR / \"ratings.csv\")\n",
    "books   = pd.read_csv(DATA_DIR / \"books.csv\")\n",
    "print(ratings.shape, books.shape)\n"
   ]
  },
  {
   "cell_type": "code",
   "execution_count": null,
   "id": "75d781ef-f160-414a-8a1f-fac55e19e4bd",
   "metadata": {},
   "outputs": [],
   "source": [
    "rows = ratings.book_id.values - 1\n",
    "cols = ratings.user_id.values - 1\n",
    "vals = ratings.rating.astype(np.float32)\n",
    "\n",
    "item_user = coo_matrix((vals, (rows, cols))).tocsr()\n",
    "save_npz(DATA_DIR / \"item_user.npz\", item_user)\n",
    "print(\"✅ Saved:\", DATA_DIR / \"item_user.npz\")\n"
   ]
  },
  {
   "cell_type": "markdown",
   "id": "3c2693e7-b505-4acd-a92b-11be42f99b36",
   "metadata": {},
   "source": [
    "## Step2 train ALS-models"
   ]
  },
  {
   "cell_type": "code",
   "execution_count": null,
   "id": "936e57d5-3bfb-4f81-ae59-4ce79073b827",
   "metadata": {},
   "outputs": [],
   "source": [
    "from pathlib import Path\n",
    "from scipy.sparse import load_npz\n",
    "from implicit.als import AlternatingLeastSquares\n",
    "import pickle, time\n",
    "\n",
    "BASE_DIR   = Path.cwd().parent     # …/book-recommender\n",
    "DATA_DIR   = BASE_DIR / \"data\"\n",
    "MODELS_DIR = BASE_DIR / \"models\"\n",
    "MODELS_DIR.mkdir(exist_ok=True)\n"
   ]
  },
  {
   "cell_type": "code",
   "execution_count": null,
   "id": "3ecb683b-5c79-4712-afe2-2b7d6bd1ee2c",
   "metadata": {},
   "outputs": [],
   "source": [
    "item_user = load_npz(DATA_DIR / \"item_user.npz\")\n",
    "print(\"Матрица:\", item_user.shape)\n"
   ]
  },
  {
   "cell_type": "code",
   "execution_count": null,
   "id": "f68baa6e-d880-4c3f-8531-491d7b857687",
   "metadata": {},
   "outputs": [],
   "source": [
    "als = AlternatingLeastSquares(\n",
    "    factors=64, iterations=20, regularization=0.1,\n",
    "    calculate_training_loss=True, random_state=42\n",
    ")\n",
    "\n",
    "t0 = time.perf_counter()\n",
    "als.fit(item_user)\n",
    "print(f\"⏱  Training finished in {time.perf_counter()-t0:.1f}s\")\n"
   ]
  },
  {
   "cell_type": "code",
   "execution_count": null,
   "id": "ae67b5ef-e5e0-4b29-8215-6366a63e91d0",
   "metadata": {},
   "outputs": [],
   "source": [
    "with open(MODELS_DIR / \"als.pkl\", \"wb\") as f:\n",
    "    pickle.dump(als, f)\n",
    "print(\"✅ Model Save:\", MODELS_DIR / \"als.pkl\")\n"
   ]
  },
  {
   "cell_type": "code",
   "execution_count": null,
   "id": "694a6d2e-86cf-44ea-8ae7-b38ef28c45cd",
   "metadata": {},
   "outputs": [],
   "source": [
    "uid = 0                          # user_id = 1 in 1-based numeric\n",
    "user_items = item_user.T.tocsr()[uid]   # <1 × items> CSR-matrix\n",
    "\n",
    "recs = als.recommend(uid, user_items, N=5)\n",
    "recs\n"
   ]
  },
  {
   "cell_type": "markdown",
   "id": "a2dc5e52-9283-41d7-ad28-c80853b187ad",
   "metadata": {},
   "source": [
    "## 🔄 New index markup (id_map) + matrix"
   ]
  },
  {
   "cell_type": "code",
   "execution_count": null,
   "id": "292a75c6-6937-447d-b2cb-b89f886fbb57",
   "metadata": {},
   "outputs": [],
   "source": [
    "unique_ids = sorted(ratings.book_id.unique())\n",
    "rev_map = {bid: idx for idx, bid in enumerate(unique_ids)}   # book_id → idx\n",
    "id_map  = {idx: bid for bid, idx in rev_map.items()}         # idx → book_id\n"
   ]
  },
  {
   "cell_type": "code",
   "execution_count": null,
   "id": "ec7a3cf2-5637-4b37-9436-23e59989d6db",
   "metadata": {},
   "outputs": [],
   "source": [
    "row  = ratings.book_id.map(rev_map).values\n",
    "col  = ratings.user_id.values - 1\n",
    "data = ratings.rating.astype(\"float32\")\n",
    "\n",
    "item_user = coo_matrix((data, (row, col))).tocsr()\n",
    "save_npz(DATA_DIR/\"item_user_mapped.npz\", item_user)\n",
    "\n",
    "import pickle\n",
    "with open(DATA_DIR/\"id_map.pkl\", \"wb\") as f:\n",
    "    pickle.dump(id_map, f)\n",
    "\n",
    "print(\"✅ item_user_mapped.npz и id_map.pkl ready\")\n"
   ]
  },
  {
   "cell_type": "code",
   "execution_count": null,
   "id": "c7880985-4be0-4fc0-8dac-c380caf021c1",
   "metadata": {},
   "outputs": [],
   "source": [
    "from pathlib import Path\n",
    "from scipy.sparse import load_npz\n",
    "from implicit.als import AlternatingLeastSquares\n",
    "import pickle, time\n",
    "\n",
    "BASE_DIR = Path.cwd().parent\n",
    "DATA_DIR = BASE_DIR / \"data\"\n",
    "MODELS_DIR = BASE_DIR / \"models\"; MODELS_DIR.mkdir(exist_ok=True)\n",
    "\n",
    "print(\" Download item_user_mapped.npz …\")\n",
    "item_user = load_npz(DATA_DIR / \"item_user_mapped.npz\")   # new matrix\n",
    "print(\"Shape :\", item_user.shape)\n"
   ]
  },
  {
   "cell_type": "code",
   "execution_count": null,
   "id": "a788f0e3-2f1c-481e-8220-749e256e099e",
   "metadata": {},
   "outputs": [],
   "source": [
    "print(\"Train ALS …\")\n",
    "als = AlternatingLeastSquares(factors=64, iterations=20,\n",
    "                              regularization=0.1, random_state=42)\n",
    "t0 = time.perf_counter()\n",
    "als.fit(item_user)\n",
    "print(f\"⏱  Training finished in {time.perf_counter()-t0:.1f}s\")\n",
    "\n",
    "with open(MODELS_DIR / \"als.pkl\", \"wb\") as f:\n",
    "    pickle.dump(als, f)\n",
    "print(\"✅ Model was Save:\", MODELS_DIR / \"als.pkl\")\n"
   ]
  },
  {
   "cell_type": "code",
   "execution_count": null,
   "id": "8ef0b216-a444-4972-8757-c0951ffc6307",
   "metadata": {},
   "outputs": [],
   "source": [
    "from pathlib import Path\n",
    "from scipy.sparse import load_npz\n",
    "import pickle, numpy as np\n",
    "\n",
    "DATA = Path.cwd().parent / \"data\"\n",
    "\n",
    "mat = load_npz(DATA / \"item_user_mapped.npz\")\n",
    "print(\"Shape :\", mat.shape)          # должно быть (~54000, 53424)\n",
    "print(\"Size MB:\", DATA.joinpath(\"item_user_mapped.npz\").stat().st_size / 1e6)\n",
    "\n",
    "id_map = pickle.load(open(DATA / \"id_map.pkl\", \"rb\"))\n",
    "print(\"len(id_map):\", len(id_map))   # должно совпадать с shape[0]\n"
   ]
  },
  {
   "cell_type": "code",
   "execution_count": null,
   "id": "28b9e0b8-3cb3-47e5-9837-920220c1e5eb",
   "metadata": {},
   "outputs": [],
   "source": []
  }
 ],
 "metadata": {
  "kernelspec": {
   "display_name": "Python 3 (ipykernel)",
   "language": "python",
   "name": "python3"
  },
  "language_info": {
   "codemirror_mode": {
    "name": "ipython",
    "version": 3
   },
   "file_extension": ".py",
   "mimetype": "text/x-python",
   "name": "python",
   "nbconvert_exporter": "python",
   "pygments_lexer": "ipython3",
   "version": "3.11.9"
  }
 },
 "nbformat": 4,
 "nbformat_minor": 5
}
